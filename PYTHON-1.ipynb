{
 "cells": [
  {
   "cell_type": "code",
   "execution_count": 1,
   "id": "a7873a8d-56f4-49ff-b70a-e99dd10a1243",
   "metadata": {},
   "outputs": [],
   "source": [
    "Studente = 25"
   ]
  },
  {
   "cell_type": "code",
   "execution_count": 2,
   "id": "271b00c1-94e9-4d9b-aec6-64855df4d2c0",
   "metadata": {},
   "outputs": [
    {
     "name": "stdout",
     "output_type": "stream",
     "text": [
      "25\n"
     ]
    }
   ],
   "source": [
    "print(Studente)"
   ]
  },
  {
   "cell_type": "code",
   "execution_count": 3,
   "id": "6b0285b5-53af-4e26-ab92-01bafe0a2045",
   "metadata": {},
   "outputs": [],
   "source": [
    "Nuovi_studenti = 3"
   ]
  },
  {
   "cell_type": "code",
   "execution_count": 4,
   "id": "fa1ed81d-0140-4666-9eb2-d511a5371ea9",
   "metadata": {},
   "outputs": [],
   "source": [
    "Totale_studenti = Studente + Nuovi_studenti"
   ]
  },
  {
   "cell_type": "code",
   "execution_count": 5,
   "id": "f6407b71-a0cd-479b-aec7-18a72827388a",
   "metadata": {},
   "outputs": [
    {
     "name": "stdout",
     "output_type": "stream",
     "text": [
      "28\n"
     ]
    }
   ],
   "source": [
    "print(Totale_studenti)"
   ]
  },
  {
   "cell_type": "code",
   "execution_count": 6,
   "id": "be6806da-8b8c-4ec9-933a-cbd709e744cf",
   "metadata": {},
   "outputs": [],
   "source": [
    "Nome = \"Epicode\""
   ]
  },
  {
   "cell_type": "code",
   "execution_count": 7,
   "id": "619ce5fb-9d83-45a5-bf7c-61532b8b2a33",
   "metadata": {},
   "outputs": [
    {
     "name": "stdout",
     "output_type": "stream",
     "text": [
      "Epicode\n"
     ]
    }
   ],
   "source": [
    "print(Nome)"
   ]
  },
  {
   "cell_type": "code",
   "execution_count": 13,
   "id": "912db571-0b70-40cb-95da-595ea07860dd",
   "metadata": {},
   "outputs": [],
   "source": [
    "x = 10"
   ]
  },
  {
   "cell_type": "code",
   "execution_count": 14,
   "id": "736ba9d9-61e3-4738-b27e-c107d3c4c3c5",
   "metadata": {},
   "outputs": [],
   "source": [
    "y = (x + 2)*3"
   ]
  },
  {
   "cell_type": "code",
   "execution_count": 15,
   "id": "80a205c1-6ddc-4789-9de8-e42b4a4740ea",
   "metadata": {},
   "outputs": [
    {
     "name": "stdout",
     "output_type": "stream",
     "text": [
      "36\n"
     ]
    }
   ],
   "source": [
    "print(y)"
   ]
  },
  {
   "cell_type": "code",
   "execution_count": 16,
   "id": "ffe6fa8c-565e-4264-be0a-2c1105ebb3c3",
   "metadata": {},
   "outputs": [],
   "source": [
    "str1 =\"Windows\""
   ]
  },
  {
   "cell_type": "code",
   "execution_count": 18,
   "id": "80dcf495-f264-4f80-88b2-296170cbf777",
   "metadata": {},
   "outputs": [
    {
     "name": "stdout",
     "output_type": "stream",
     "text": [
      "il numero caratteri è compreso tra i due numeri\n"
     ]
    }
   ],
   "source": [
    "if 5<len(str1)<8:\n",
    "    print(\"il numero caratteri è compreso tra i due numeri\")\n",
    "else:\n",
    "    print(\"il numero caratteri non è compreso\")"
   ]
  },
  {
   "cell_type": "code",
   "execution_count": 19,
   "id": "edec5025-07de-4e5a-833b-e5a5081f0712",
   "metadata": {},
   "outputs": [],
   "source": [
    "str2 = \"Excel\""
   ]
  },
  {
   "cell_type": "code",
   "execution_count": 21,
   "id": "5f44ea43-30eb-4df4-8a6e-49115786d62d",
   "metadata": {},
   "outputs": [
    {
     "name": "stdout",
     "output_type": "stream",
     "text": [
      "il numero caratteri non è compreso\n"
     ]
    }
   ],
   "source": [
    "if 5<len(str2)<8:\n",
    "    print(\"il numero caratteri è compreso tra i due numeri\")\n",
    "else:\n",
    "    print(\"il numero caratteri non è compreso\") "
   ]
  },
  {
   "cell_type": "code",
   "execution_count": 22,
   "id": "a05a4b56-be49-4636-8a88-9a739e49d2e9",
   "metadata": {},
   "outputs": [],
   "source": [
    "str3 = \"Powerpoint\""
   ]
  },
  {
   "cell_type": "code",
   "execution_count": 23,
   "id": "be358185-d0f2-4f0a-8f4e-843e29eae2df",
   "metadata": {},
   "outputs": [
    {
     "name": "stdout",
     "output_type": "stream",
     "text": [
      "il numero caratteri non è compreso\n"
     ]
    }
   ],
   "source": [
    "if 5<len(str3)<8:\n",
    "    print(\"il numero caratteri è compreso tra i due numeri\")\n",
    "else:\n",
    "    print(\"il numero caratteri non è compreso\") "
   ]
  },
  {
   "cell_type": "code",
   "execution_count": 24,
   "id": "2a1d7884-dda0-474b-a1d1-05484efdb5b5",
   "metadata": {},
   "outputs": [],
   "source": [
    "str4 = \"Word\""
   ]
  },
  {
   "cell_type": "code",
   "execution_count": 25,
   "id": "bc3ef334-79d1-4a45-984c-405a8548cf8a",
   "metadata": {},
   "outputs": [
    {
     "name": "stdout",
     "output_type": "stream",
     "text": [
      "il numero caratteri non è compreso\n"
     ]
    }
   ],
   "source": [
    "if 5<len(str4)<8:\n",
    "    print(\"il numero caratteri è compreso tra i due numeri\")\n",
    "else:\n",
    "    print(\"il numero caratteri non è compreso\")"
   ]
  },
  {
   "cell_type": "code",
   "execution_count": 30,
   "id": "54cc197b-2d86-40d5-9aa0-fd7b0160ca84",
   "metadata": {},
   "outputs": [],
   "source": [
    "Secondi =60*60*24*365"
   ]
  },
  {
   "cell_type": "code",
   "execution_count": 31,
   "id": "12499d3d-a9d3-4c7d-bf01-cbf6f0a0df0d",
   "metadata": {},
   "outputs": [
    {
     "name": "stdout",
     "output_type": "stream",
     "text": [
      "31536000\n"
     ]
    }
   ],
   "source": [
    "print(Secondi)"
   ]
  },
  {
   "cell_type": "code",
   "execution_count": 32,
   "id": "dd314f24-b549-4d39-9444-b73505c5d9e7",
   "metadata": {},
   "outputs": [],
   "source": [
    "my_string = \"I am studying Python\""
   ]
  },
  {
   "cell_type": "code",
   "execution_count": 33,
   "id": "9b494eae-b839-4fa2-bcc0-f2227453bea0",
   "metadata": {},
   "outputs": [
    {
     "data": {
      "text/plain": [
       "'I AM STUDYING PYTHON'"
      ]
     },
     "execution_count": 33,
     "metadata": {},
     "output_type": "execute_result"
    }
   ],
   "source": [
    "my_string.upper()"
   ]
  },
  {
   "cell_type": "code",
   "execution_count": 34,
   "id": "8d4b296f-c9a6-40be-9e2b-f57de5f1dab7",
   "metadata": {},
   "outputs": [
    {
     "data": {
      "text/plain": [
       "'i am studying python'"
      ]
     },
     "execution_count": 34,
     "metadata": {},
     "output_type": "execute_result"
    }
   ],
   "source": [
    "my_string.lower()"
   ]
  },
  {
   "cell_type": "code",
   "execution_count": 35,
   "id": "0f4ba384-1b5c-4384-8f7a-c3cb12c9d455",
   "metadata": {},
   "outputs": [
    {
     "data": {
      "text/plain": [
       "'I am studying a lot'"
      ]
     },
     "execution_count": 35,
     "metadata": {},
     "output_type": "execute_result"
    }
   ],
   "source": [
    "my_string.replace(\"Python\",\"a lot\")"
   ]
  },
  {
   "cell_type": "code",
   "execution_count": 36,
   "id": "4226ff42-05df-4617-9cb4-85da91485c22",
   "metadata": {},
   "outputs": [
    {
     "data": {
      "text/plain": [
       "'I am studying Python'"
      ]
     },
     "execution_count": 36,
     "metadata": {},
     "output_type": "execute_result"
    }
   ],
   "source": [
    "my_string.strip()"
   ]
  },
  {
   "cell_type": "code",
   "execution_count": null,
   "id": "bfb1b2f8-76ae-4888-9835-9915d1698def",
   "metadata": {},
   "outputs": [],
   "source": []
  }
 ],
 "metadata": {
  "kernelspec": {
   "display_name": "Python 3 (ipykernel)",
   "language": "python",
   "name": "python3"
  },
  "language_info": {
   "codemirror_mode": {
    "name": "ipython",
    "version": 3
   },
   "file_extension": ".py",
   "mimetype": "text/x-python",
   "name": "python",
   "nbconvert_exporter": "python",
   "pygments_lexer": "ipython3",
   "version": "3.11.7"
  }
 },
 "nbformat": 4,
 "nbformat_minor": 5
}
